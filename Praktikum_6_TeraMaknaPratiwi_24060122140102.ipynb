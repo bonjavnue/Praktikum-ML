{
  "nbformat": 4,
  "nbformat_minor": 0,
  "metadata": {
    "colab": {
      "provenance": []
    },
    "kernelspec": {
      "name": "python3",
      "display_name": "Python 3"
    },
    "language_info": {
      "name": "python"
    }
  },
  "cells": [
    {
      "cell_type": "markdown",
      "source": [
        "Tugas Modul 6\n",
        "\n",
        "Tera Makna Pratiwi (24060122140102)\n",
        "Lab C1"
      ],
      "metadata": {
        "id": "oNq3wNvmipck"
      }
    },
    {
      "cell_type": "markdown",
      "source": [
        "Principal Component Analysis"
      ],
      "metadata": {
        "id": "BxIl4eaxixI9"
      }
    },
    {
      "cell_type": "markdown",
      "source": [
        "Load dataset"
      ],
      "metadata": {
        "id": "Th8KLR-SjR0o"
      }
    },
    {
      "cell_type": "code",
      "execution_count": 26,
      "metadata": {
        "id": "Ncv-68N1h2ps"
      },
      "outputs": [],
      "source": [
        "import pandas as pd\n",
        "from matplotlib import pyplot as plt\n",
        "from sklearn.preprocessing import StandardScaler\n",
        "from sklearn.decomposition import PCA\n",
        "import numpy as np"
      ]
    },
    {
      "cell_type": "code",
      "source": [
        "df = pd.read_csv('cars_clus.csv')\n",
        "df.head()"
      ],
      "metadata": {
        "colab": {
          "base_uri": "https://localhost:8080/",
          "height": 206
        },
        "id": "SlBe3JG1jPSw",
        "outputId": "d3899e57-00b9-4aff-9ca3-3362fe9ed353"
      },
      "execution_count": 27,
      "outputs": [
        {
          "output_type": "execute_result",
          "data": {
            "text/plain": [
              "  manufact    model   sales  resale type   price engine_s horsepow wheelbas  \\\n",
              "0    Acura  Integra  16.919   16.36    0    21.5      1.8      140    101.2   \n",
              "1    Acura       TL  39.384  19.875    0    28.4      3.2      225    108.1   \n",
              "2    Acura       CL  14.114  18.225    0  $null$      3.2      225    106.9   \n",
              "3    Acura       RL   8.588  29.725    0      42      3.5      210    114.6   \n",
              "4     Audi       A4  20.397  22.255    0   23.99      1.8      150    102.6   \n",
              "\n",
              "  width length curb_wgt fuel_cap mpg lnsales  partition  \n",
              "0  67.3  172.4    2.639     13.2  28   2.828          0  \n",
              "1  70.3  192.9    3.517     17.2  25   3.673          0  \n",
              "2  70.6    192     3.47     17.2  26   2.647          0  \n",
              "3  71.4  196.6     3.85       18  22    2.15          0  \n",
              "4  68.2    178    2.998     16.4  27   3.015          0  "
            ],
            "text/html": [
              "\n",
              "  <div id=\"df-73b1a1ff-bbca-4daa-b475-8152916dfaee\" class=\"colab-df-container\">\n",
              "    <div>\n",
              "<style scoped>\n",
              "    .dataframe tbody tr th:only-of-type {\n",
              "        vertical-align: middle;\n",
              "    }\n",
              "\n",
              "    .dataframe tbody tr th {\n",
              "        vertical-align: top;\n",
              "    }\n",
              "\n",
              "    .dataframe thead th {\n",
              "        text-align: right;\n",
              "    }\n",
              "</style>\n",
              "<table border=\"1\" class=\"dataframe\">\n",
              "  <thead>\n",
              "    <tr style=\"text-align: right;\">\n",
              "      <th></th>\n",
              "      <th>manufact</th>\n",
              "      <th>model</th>\n",
              "      <th>sales</th>\n",
              "      <th>resale</th>\n",
              "      <th>type</th>\n",
              "      <th>price</th>\n",
              "      <th>engine_s</th>\n",
              "      <th>horsepow</th>\n",
              "      <th>wheelbas</th>\n",
              "      <th>width</th>\n",
              "      <th>length</th>\n",
              "      <th>curb_wgt</th>\n",
              "      <th>fuel_cap</th>\n",
              "      <th>mpg</th>\n",
              "      <th>lnsales</th>\n",
              "      <th>partition</th>\n",
              "    </tr>\n",
              "  </thead>\n",
              "  <tbody>\n",
              "    <tr>\n",
              "      <th>0</th>\n",
              "      <td>Acura</td>\n",
              "      <td>Integra</td>\n",
              "      <td>16.919</td>\n",
              "      <td>16.36</td>\n",
              "      <td>0</td>\n",
              "      <td>21.5</td>\n",
              "      <td>1.8</td>\n",
              "      <td>140</td>\n",
              "      <td>101.2</td>\n",
              "      <td>67.3</td>\n",
              "      <td>172.4</td>\n",
              "      <td>2.639</td>\n",
              "      <td>13.2</td>\n",
              "      <td>28</td>\n",
              "      <td>2.828</td>\n",
              "      <td>0</td>\n",
              "    </tr>\n",
              "    <tr>\n",
              "      <th>1</th>\n",
              "      <td>Acura</td>\n",
              "      <td>TL</td>\n",
              "      <td>39.384</td>\n",
              "      <td>19.875</td>\n",
              "      <td>0</td>\n",
              "      <td>28.4</td>\n",
              "      <td>3.2</td>\n",
              "      <td>225</td>\n",
              "      <td>108.1</td>\n",
              "      <td>70.3</td>\n",
              "      <td>192.9</td>\n",
              "      <td>3.517</td>\n",
              "      <td>17.2</td>\n",
              "      <td>25</td>\n",
              "      <td>3.673</td>\n",
              "      <td>0</td>\n",
              "    </tr>\n",
              "    <tr>\n",
              "      <th>2</th>\n",
              "      <td>Acura</td>\n",
              "      <td>CL</td>\n",
              "      <td>14.114</td>\n",
              "      <td>18.225</td>\n",
              "      <td>0</td>\n",
              "      <td>$null$</td>\n",
              "      <td>3.2</td>\n",
              "      <td>225</td>\n",
              "      <td>106.9</td>\n",
              "      <td>70.6</td>\n",
              "      <td>192</td>\n",
              "      <td>3.47</td>\n",
              "      <td>17.2</td>\n",
              "      <td>26</td>\n",
              "      <td>2.647</td>\n",
              "      <td>0</td>\n",
              "    </tr>\n",
              "    <tr>\n",
              "      <th>3</th>\n",
              "      <td>Acura</td>\n",
              "      <td>RL</td>\n",
              "      <td>8.588</td>\n",
              "      <td>29.725</td>\n",
              "      <td>0</td>\n",
              "      <td>42</td>\n",
              "      <td>3.5</td>\n",
              "      <td>210</td>\n",
              "      <td>114.6</td>\n",
              "      <td>71.4</td>\n",
              "      <td>196.6</td>\n",
              "      <td>3.85</td>\n",
              "      <td>18</td>\n",
              "      <td>22</td>\n",
              "      <td>2.15</td>\n",
              "      <td>0</td>\n",
              "    </tr>\n",
              "    <tr>\n",
              "      <th>4</th>\n",
              "      <td>Audi</td>\n",
              "      <td>A4</td>\n",
              "      <td>20.397</td>\n",
              "      <td>22.255</td>\n",
              "      <td>0</td>\n",
              "      <td>23.99</td>\n",
              "      <td>1.8</td>\n",
              "      <td>150</td>\n",
              "      <td>102.6</td>\n",
              "      <td>68.2</td>\n",
              "      <td>178</td>\n",
              "      <td>2.998</td>\n",
              "      <td>16.4</td>\n",
              "      <td>27</td>\n",
              "      <td>3.015</td>\n",
              "      <td>0</td>\n",
              "    </tr>\n",
              "  </tbody>\n",
              "</table>\n",
              "</div>\n",
              "    <div class=\"colab-df-buttons\">\n",
              "\n",
              "  <div class=\"colab-df-container\">\n",
              "    <button class=\"colab-df-convert\" onclick=\"convertToInteractive('df-73b1a1ff-bbca-4daa-b475-8152916dfaee')\"\n",
              "            title=\"Convert this dataframe to an interactive table.\"\n",
              "            style=\"display:none;\">\n",
              "\n",
              "  <svg xmlns=\"http://www.w3.org/2000/svg\" height=\"24px\" viewBox=\"0 -960 960 960\">\n",
              "    <path d=\"M120-120v-720h720v720H120Zm60-500h600v-160H180v160Zm220 220h160v-160H400v160Zm0 220h160v-160H400v160ZM180-400h160v-160H180v160Zm440 0h160v-160H620v160ZM180-180h160v-160H180v160Zm440 0h160v-160H620v160Z\"/>\n",
              "  </svg>\n",
              "    </button>\n",
              "\n",
              "  <style>\n",
              "    .colab-df-container {\n",
              "      display:flex;\n",
              "      gap: 12px;\n",
              "    }\n",
              "\n",
              "    .colab-df-convert {\n",
              "      background-color: #E8F0FE;\n",
              "      border: none;\n",
              "      border-radius: 50%;\n",
              "      cursor: pointer;\n",
              "      display: none;\n",
              "      fill: #1967D2;\n",
              "      height: 32px;\n",
              "      padding: 0 0 0 0;\n",
              "      width: 32px;\n",
              "    }\n",
              "\n",
              "    .colab-df-convert:hover {\n",
              "      background-color: #E2EBFA;\n",
              "      box-shadow: 0px 1px 2px rgba(60, 64, 67, 0.3), 0px 1px 3px 1px rgba(60, 64, 67, 0.15);\n",
              "      fill: #174EA6;\n",
              "    }\n",
              "\n",
              "    .colab-df-buttons div {\n",
              "      margin-bottom: 4px;\n",
              "    }\n",
              "\n",
              "    [theme=dark] .colab-df-convert {\n",
              "      background-color: #3B4455;\n",
              "      fill: #D2E3FC;\n",
              "    }\n",
              "\n",
              "    [theme=dark] .colab-df-convert:hover {\n",
              "      background-color: #434B5C;\n",
              "      box-shadow: 0px 1px 3px 1px rgba(0, 0, 0, 0.15);\n",
              "      filter: drop-shadow(0px 1px 2px rgba(0, 0, 0, 0.3));\n",
              "      fill: #FFFFFF;\n",
              "    }\n",
              "  </style>\n",
              "\n",
              "    <script>\n",
              "      const buttonEl =\n",
              "        document.querySelector('#df-73b1a1ff-bbca-4daa-b475-8152916dfaee button.colab-df-convert');\n",
              "      buttonEl.style.display =\n",
              "        google.colab.kernel.accessAllowed ? 'block' : 'none';\n",
              "\n",
              "      async function convertToInteractive(key) {\n",
              "        const element = document.querySelector('#df-73b1a1ff-bbca-4daa-b475-8152916dfaee');\n",
              "        const dataTable =\n",
              "          await google.colab.kernel.invokeFunction('convertToInteractive',\n",
              "                                                    [key], {});\n",
              "        if (!dataTable) return;\n",
              "\n",
              "        const docLinkHtml = 'Like what you see? Visit the ' +\n",
              "          '<a target=\"_blank\" href=https://colab.research.google.com/notebooks/data_table.ipynb>data table notebook</a>'\n",
              "          + ' to learn more about interactive tables.';\n",
              "        element.innerHTML = '';\n",
              "        dataTable['output_type'] = 'display_data';\n",
              "        await google.colab.output.renderOutput(dataTable, element);\n",
              "        const docLink = document.createElement('div');\n",
              "        docLink.innerHTML = docLinkHtml;\n",
              "        element.appendChild(docLink);\n",
              "      }\n",
              "    </script>\n",
              "  </div>\n",
              "\n",
              "\n",
              "<div id=\"df-2a6ae1e2-b9d7-4b78-a2f7-f721393c0712\">\n",
              "  <button class=\"colab-df-quickchart\" onclick=\"quickchart('df-2a6ae1e2-b9d7-4b78-a2f7-f721393c0712')\"\n",
              "            title=\"Suggest charts\"\n",
              "            style=\"display:none;\">\n",
              "\n",
              "<svg xmlns=\"http://www.w3.org/2000/svg\" height=\"24px\"viewBox=\"0 0 24 24\"\n",
              "     width=\"24px\">\n",
              "    <g>\n",
              "        <path d=\"M19 3H5c-1.1 0-2 .9-2 2v14c0 1.1.9 2 2 2h14c1.1 0 2-.9 2-2V5c0-1.1-.9-2-2-2zM9 17H7v-7h2v7zm4 0h-2V7h2v10zm4 0h-2v-4h2v4z\"/>\n",
              "    </g>\n",
              "</svg>\n",
              "  </button>\n",
              "\n",
              "<style>\n",
              "  .colab-df-quickchart {\n",
              "      --bg-color: #E8F0FE;\n",
              "      --fill-color: #1967D2;\n",
              "      --hover-bg-color: #E2EBFA;\n",
              "      --hover-fill-color: #174EA6;\n",
              "      --disabled-fill-color: #AAA;\n",
              "      --disabled-bg-color: #DDD;\n",
              "  }\n",
              "\n",
              "  [theme=dark] .colab-df-quickchart {\n",
              "      --bg-color: #3B4455;\n",
              "      --fill-color: #D2E3FC;\n",
              "      --hover-bg-color: #434B5C;\n",
              "      --hover-fill-color: #FFFFFF;\n",
              "      --disabled-bg-color: #3B4455;\n",
              "      --disabled-fill-color: #666;\n",
              "  }\n",
              "\n",
              "  .colab-df-quickchart {\n",
              "    background-color: var(--bg-color);\n",
              "    border: none;\n",
              "    border-radius: 50%;\n",
              "    cursor: pointer;\n",
              "    display: none;\n",
              "    fill: var(--fill-color);\n",
              "    height: 32px;\n",
              "    padding: 0;\n",
              "    width: 32px;\n",
              "  }\n",
              "\n",
              "  .colab-df-quickchart:hover {\n",
              "    background-color: var(--hover-bg-color);\n",
              "    box-shadow: 0 1px 2px rgba(60, 64, 67, 0.3), 0 1px 3px 1px rgba(60, 64, 67, 0.15);\n",
              "    fill: var(--button-hover-fill-color);\n",
              "  }\n",
              "\n",
              "  .colab-df-quickchart-complete:disabled,\n",
              "  .colab-df-quickchart-complete:disabled:hover {\n",
              "    background-color: var(--disabled-bg-color);\n",
              "    fill: var(--disabled-fill-color);\n",
              "    box-shadow: none;\n",
              "  }\n",
              "\n",
              "  .colab-df-spinner {\n",
              "    border: 2px solid var(--fill-color);\n",
              "    border-color: transparent;\n",
              "    border-bottom-color: var(--fill-color);\n",
              "    animation:\n",
              "      spin 1s steps(1) infinite;\n",
              "  }\n",
              "\n",
              "  @keyframes spin {\n",
              "    0% {\n",
              "      border-color: transparent;\n",
              "      border-bottom-color: var(--fill-color);\n",
              "      border-left-color: var(--fill-color);\n",
              "    }\n",
              "    20% {\n",
              "      border-color: transparent;\n",
              "      border-left-color: var(--fill-color);\n",
              "      border-top-color: var(--fill-color);\n",
              "    }\n",
              "    30% {\n",
              "      border-color: transparent;\n",
              "      border-left-color: var(--fill-color);\n",
              "      border-top-color: var(--fill-color);\n",
              "      border-right-color: var(--fill-color);\n",
              "    }\n",
              "    40% {\n",
              "      border-color: transparent;\n",
              "      border-right-color: var(--fill-color);\n",
              "      border-top-color: var(--fill-color);\n",
              "    }\n",
              "    60% {\n",
              "      border-color: transparent;\n",
              "      border-right-color: var(--fill-color);\n",
              "    }\n",
              "    80% {\n",
              "      border-color: transparent;\n",
              "      border-right-color: var(--fill-color);\n",
              "      border-bottom-color: var(--fill-color);\n",
              "    }\n",
              "    90% {\n",
              "      border-color: transparent;\n",
              "      border-bottom-color: var(--fill-color);\n",
              "    }\n",
              "  }\n",
              "</style>\n",
              "\n",
              "  <script>\n",
              "    async function quickchart(key) {\n",
              "      const quickchartButtonEl =\n",
              "        document.querySelector('#' + key + ' button');\n",
              "      quickchartButtonEl.disabled = true;  // To prevent multiple clicks.\n",
              "      quickchartButtonEl.classList.add('colab-df-spinner');\n",
              "      try {\n",
              "        const charts = await google.colab.kernel.invokeFunction(\n",
              "            'suggestCharts', [key], {});\n",
              "      } catch (error) {\n",
              "        console.error('Error during call to suggestCharts:', error);\n",
              "      }\n",
              "      quickchartButtonEl.classList.remove('colab-df-spinner');\n",
              "      quickchartButtonEl.classList.add('colab-df-quickchart-complete');\n",
              "    }\n",
              "    (() => {\n",
              "      let quickchartButtonEl =\n",
              "        document.querySelector('#df-2a6ae1e2-b9d7-4b78-a2f7-f721393c0712 button');\n",
              "      quickchartButtonEl.style.display =\n",
              "        google.colab.kernel.accessAllowed ? 'block' : 'none';\n",
              "    })();\n",
              "  </script>\n",
              "</div>\n",
              "\n",
              "    </div>\n",
              "  </div>\n"
            ],
            "application/vnd.google.colaboratory.intrinsic+json": {
              "type": "dataframe",
              "variable_name": "df",
              "summary": "{\n  \"name\": \"df\",\n  \"rows\": 159,\n  \"fields\": [\n    {\n      \"column\": \"manufact\",\n      \"properties\": {\n        \"dtype\": \"category\",\n        \"num_unique_values\": 30,\n        \"samples\": [\n          \"Toyota\",\n          \"Lincoln\",\n          \"Porsche\"\n        ],\n        \"semantic_type\": \"\",\n        \"description\": \"\"\n      }\n    },\n    {\n      \"column\": \"model\",\n      \"properties\": {\n        \"dtype\": \"string\",\n        \"num_unique_values\": 158,\n        \"samples\": [\n          \"SL\",\n          \"Caravan\",\n          \"Forester\"\n        ],\n        \"semantic_type\": \"\",\n        \"description\": \"\"\n      }\n    },\n    {\n      \"column\": \"sales\",\n      \"properties\": {\n        \"dtype\": \"string\",\n        \"num_unique_values\": 158,\n        \"samples\": [\n          \"12.115\",\n          \"181.749\",\n          \"47.107\"\n        ],\n        \"semantic_type\": \"\",\n        \"description\": \"\"\n      }\n    },\n    {\n      \"column\": \"resale\",\n      \"properties\": {\n        \"dtype\": \"string\",\n        \"num_unique_values\": 118,\n        \"samples\": [\n          \"5.86\",\n          \"17.81\",\n          \"22.255\"\n        ],\n        \"semantic_type\": \"\",\n        \"description\": \"\"\n      }\n    },\n    {\n      \"column\": \"type\",\n      \"properties\": {\n        \"dtype\": \"category\",\n        \"num_unique_values\": 3,\n        \"samples\": [\n          \"0\",\n          \"1\",\n          \"$null$\"\n        ],\n        \"semantic_type\": \"\",\n        \"description\": \"\"\n      }\n    },\n    {\n      \"column\": \"price\",\n      \"properties\": {\n        \"dtype\": \"string\",\n        \"num_unique_values\": 154,\n        \"samples\": [\n          \"44.475\",\n          \"41\",\n          \"36\"\n        ],\n        \"semantic_type\": \"\",\n        \"description\": \"\"\n      }\n    },\n    {\n      \"column\": \"engine_s\",\n      \"properties\": {\n        \"dtype\": \"category\",\n        \"num_unique_values\": 32,\n        \"samples\": [\n          \"5\",\n          \"2\",\n          \"1.5\"\n        ],\n        \"semantic_type\": \"\",\n        \"description\": \"\"\n      }\n    },\n    {\n      \"column\": \"horsepow\",\n      \"properties\": {\n        \"dtype\": \"category\",\n        \"num_unique_values\": 69,\n        \"samples\": [\n          \"$null$\",\n          \"140\",\n          \"125\"\n        ],\n        \"semantic_type\": \"\",\n        \"description\": \"\"\n      }\n    },\n    {\n      \"column\": \"wheelbas\",\n      \"properties\": {\n        \"dtype\": \"string\",\n        \"num_unique_values\": 90,\n        \"samples\": [\n          \"114.7\",\n          \"97.1\",\n          \"105.9\"\n        ],\n        \"semantic_type\": \"\",\n        \"description\": \"\"\n      }\n    },\n    {\n      \"column\": \"width\",\n      \"properties\": {\n        \"dtype\": \"string\",\n        \"num_unique_values\": 80,\n        \"samples\": [\n          \"69.1\",\n          \"67.3\",\n          \"66.7\"\n        ],\n        \"semantic_type\": \"\",\n        \"description\": \"\"\n      }\n    },\n    {\n      \"column\": \"length\",\n      \"properties\": {\n        \"dtype\": \"string\",\n        \"num_unique_values\": 130,\n        \"samples\": [\n          \"178.2\",\n          \"193.5\",\n          \"200.9\"\n        ],\n        \"semantic_type\": \"\",\n        \"description\": \"\"\n      }\n    },\n    {\n      \"column\": \"curb_wgt\",\n      \"properties\": {\n        \"dtype\": \"string\",\n        \"num_unique_values\": 149,\n        \"samples\": [\n          \"3.9\",\n          \"5.572\",\n          \"3.396\"\n        ],\n        \"semantic_type\": \"\",\n        \"description\": \"\"\n      }\n    },\n    {\n      \"column\": \"fuel_cap\",\n      \"properties\": {\n        \"dtype\": \"category\",\n        \"num_unique_values\": 56,\n        \"samples\": [\n          \"13.2\",\n          \"23.7\",\n          \"14.5\"\n        ],\n        \"semantic_type\": \"\",\n        \"description\": \"\"\n      }\n    },\n    {\n      \"column\": \"mpg\",\n      \"properties\": {\n        \"dtype\": \"category\",\n        \"num_unique_values\": 24,\n        \"samples\": [\n          \"24.8\",\n          \"17\",\n          \"28\"\n        ],\n        \"semantic_type\": \"\",\n        \"description\": \"\"\n      }\n    },\n    {\n      \"column\": \"lnsales\",\n      \"properties\": {\n        \"dtype\": \"string\",\n        \"num_unique_values\": 151,\n        \"samples\": [\n          \"3.132\",\n          \"2.694\",\n          \"2.428\"\n        ],\n        \"semantic_type\": \"\",\n        \"description\": \"\"\n      }\n    },\n    {\n      \"column\": \"partition\",\n      \"properties\": {\n        \"dtype\": \"number\",\n        \"std\": 0,\n        \"min\": 0,\n        \"max\": 1,\n        \"num_unique_values\": 2,\n        \"samples\": [\n          1,\n          0\n        ],\n        \"semantic_type\": \"\",\n        \"description\": \"\"\n      }\n    }\n  ]\n}"
            }
          },
          "metadata": {},
          "execution_count": 27
        }
      ]
    },
    {
      "cell_type": "markdown",
      "source": [
        "Standarisasi Data"
      ],
      "metadata": {
        "id": "HQyicld10qIA"
      }
    },
    {
      "cell_type": "code",
      "source": [
        "# Menentukan fitur numerik yang akan digunakan untuk PCA\n",
        "features = ['sales', 'resale', 'price', 'engine_s', 'horsepow', 'wheelbas',\n",
        "            'width', 'length', 'curb_wgt', 'fuel_cap', 'mpg']\n",
        "\n",
        "# Menggunakan variabel fitur sebagai data input\n",
        "X = df.loc[:, features]\n",
        "\n",
        "# Menangani nilai non-numerik dengan mengganti nilai seperti '$null$' menjadi NaN\n",
        "X = X.replace({'$null$': np.nan})\n",
        "\n",
        "# Menghapus baris yang memiliki nilai NaN pada fitur yang dipilih\n",
        "X_cleaned = X.dropna()\n",
        "\n",
        "# Pastikan semua data dalam fitur numerik (konversi ke float jika perlu)\n",
        "X_cleaned = X_cleaned.astype(float)\n",
        "\n",
        "# Melakukan standarisasi pada fitur\n",
        "X_scaled = StandardScaler().fit_transform(X_cleaned)"
      ],
      "metadata": {
        "id": "k6Q7kkx0kkLB"
      },
      "execution_count": 28,
      "outputs": []
    },
    {
      "cell_type": "markdown",
      "source": [
        "Kode ini digunakan untuk mempersiapkan data numerik sebelum diterapkan PCA dengan langkah-langkah sebagai berikut: memilih fitur yang relevan dari DataFrame, mengganti nilai non-numerik seperti '$null$' dengan NaN, menghapus baris dengan nilai yang hilang, memastikan semua data diubah menjadi tipe numerik (float), dan melakukan standarisasi (normalisasi) menggunakan StandardScaler agar semua fitur memiliki skala yang sama."
      ],
      "metadata": {
        "id": "rWsAQWDk1dd7"
      }
    },
    {
      "cell_type": "markdown",
      "source": [
        "Proyeksi PCA ke 2D"
      ],
      "metadata": {
        "id": "TOVhL-Pc0stR"
      }
    },
    {
      "cell_type": "code",
      "source": [
        "# Menerapkan PCA untuk mengurangi dimensi menjadi 2 komponen utama\n",
        "pca = PCA(n_components=2)\n",
        "\n",
        "# Mentransformasi data X menjadi 2 komponen utama\n",
        "principalComponents = pca.fit_transform(X_scaled)\n",
        "\n",
        "# Membuat DataFrame baru yang memuat 2 komponen utama\n",
        "principalDF = pd.DataFrame(data=principalComponents, columns=['principal component 1', 'principal component 2'])\n",
        "\n",
        "# Menggabungkan hasil PCA dengan label target (menggunakan kolom 'type' sebagai label)\n",
        "# Pastikan kolom 'type' ada pada DataFrame asli\n",
        "if 'type' in df.columns:\n",
        "    finalDF = pd.concat([principalDF, df.loc[X_cleaned.index, ['type']]], axis=1)\n",
        "else:\n",
        "    raise KeyError(\"Kolom 'type' tidak ditemukan dalam DataFrame.\")\n",
        "\n",
        "# Menampilkan jumlah data untuk setiap kategori pada kolom 'type'\n",
        "print(df['type'].value_counts())\n"
      ],
      "metadata": {
        "colab": {
          "base_uri": "https://localhost:8080/"
        },
        "id": "pqRu_DtLtV_5",
        "outputId": "44f71e9b-a59d-439f-edb7-f095d863237a"
      },
      "execution_count": 29,
      "outputs": [
        {
          "output_type": "stream",
          "name": "stdout",
          "text": [
            "type\n",
            "0         116\n",
            "1          41\n",
            "$null$      2\n",
            "Name: count, dtype: int64\n"
          ]
        }
      ]
    },
    {
      "cell_type": "markdown",
      "source": [
        "\n",
        "Kode ini menerapkan analisis PCA untuk mengurangi dimensi data menjadi dua komponen utama, kemudian mentransformasi data yang telah distandarisasi (X_scaled) ke dalam dua komponen tersebut. Hasil transformasi ini disimpan dalam DataFrame baru yang memuat dua komponen utama. Selanjutnya, DataFrame ini digabungkan dengan kolom type (sebagai label target) dari DataFrame asli, memastikan bahwa kolom type ada sebelum penggabungan. Terakhir, kode ini menampilkan jumlah data untuk setiap kategori dalam kolom type menggunakan fungsi value_counts()."
      ],
      "metadata": {
        "id": "xgPE5FDB1rPU"
      }
    },
    {
      "cell_type": "markdown",
      "source": [
        "Visualisasi Proyeksi 2D"
      ],
      "metadata": {
        "id": "Jziuxsck02rv"
      }
    },
    {
      "cell_type": "code",
      "source": [
        "# Visualisasi 2D hasil PCA\n",
        "fig = plt.figure(figsize=(8, 8)) # Membuat kanvas figure dengan ukuran 8x8 inci\n",
        "ax = fig.add_subplot(1, 1, 1) # Menambahkan satu subplot dalam figure\n",
        "ax.set_xlabel('Principal Component 1', fontsize=15) # Menambahkan label pada sumbu X\n",
        "ax.set_ylabel('Principal Component 2', fontsize=15) # Menambahkan label pada sumbu Y\n",
        "\n",
        "# Menambahkan judul pada plot\n",
        "ax.set_title('2 Component PCA - Cars Clustering Dataset', fontsize=20)\n",
        "\n",
        "# Menentukan target untuk warna plot\n",
        "targets = df['type'].unique()  # Mengambil nilai unik dari kolom 'type' sebagai kategori target\n",
        "colors = ['g', 'r', 'b', 'm', 'y', 'c']  # Warna untuk tiap kategori\n",
        "\n",
        "\n",
        "# Loop untuk memplot data berdasarkan kategori target\n",
        "for target, color in zip(targets, colors):  # Mengiterasi kategori dan warna\n",
        "    indicesToKeep = finalDF['type'] == target # Menentukan indeks data yang sesuai dengan kategori\n",
        "\n",
        "    # Membuat scatter plot untuk data yang sesuai dengan kategori\n",
        "    ax.scatter(finalDF.loc[indicesToKeep, 'principal component 1'], # Data pada komponen utama 1\n",
        "               finalDF.loc[indicesToKeep, 'principal component 2'], # Data pada komponen utama 2\n",
        "               c=color, label=target, s=50)\n",
        "\n",
        "# Menambahkan legenda untuk menunjukkan kategori\n",
        "ax.legend(targets)\n",
        "# Menambahkan grid pada plot untuk memperjelas posisi titik\n",
        "ax.grid()\n",
        "\n",
        "# Menampilkan plot\n",
        "plt.show()\n"
      ],
      "metadata": {
        "id": "g78UisTzs3VR",
        "colab": {
          "base_uri": "https://localhost:8080/",
          "height": 732
        },
        "outputId": "1e82ac60-5a9d-47df-a82a-abf3cbfe6858"
      },
      "execution_count": 30,
      "outputs": [
        {
          "output_type": "display_data",
          "data": {
            "text/plain": [
              "<Figure size 800x800 with 1 Axes>"
            ],
            "image/png": "[encoded data removed]"
          },
          "metadata": {}
        }
      ]
    },
    {
      "cell_type": "markdown",
      "source": [
        "Kode ini digunakan untuk memvisualisasikan hasil PCA dalam bentuk plot 2D, di mana dua komponen utama digunakan sebagai sumbu X dan Y. Dimulai dengan membuat kanvas untuk plot, menambahkan label untuk kedua sumbu dan judul pada plot. Selanjutnya, kode ini mengambil nilai unik dari kolom type untuk mewarnai data berdasarkan kategori yang ada, dengan setiap kategori diberi warna yang berbeda. Setiap kategori diplot menggunakan scatter plot berdasarkan komponen utama yang telah dihitung, dan legenda serta grid ditambahkan untuk memudahkan interpretasi. Terakhir, plot ditampilkan dengan plt.show()."
      ],
      "metadata": {
        "id": "IFXZPepe14kH"
      }
    },
    {
      "cell_type": "markdown",
      "source": [
        "Varians yang dijelaskan"
      ],
      "metadata": {
        "id": "T0xMuJhJ09xE"
      }
    },
    {
      "cell_type": "code",
      "source": [
        "# Menampilkan variansi yang dijelaskan oleh setiap komponen utama\n",
        "print(\"Explained variance ratio per component:\")\n",
        "print(pca.explained_variance_ratio_)\n"
      ],
      "metadata": {
        "id": "Ivrugg1js7h6",
        "colab": {
          "base_uri": "https://localhost:8080/"
        },
        "outputId": "3a19f6d8-be9f-4cd8-b0d8-aa533022b655"
      },
      "execution_count": 31,
      "outputs": [
        {
          "output_type": "stream",
          "name": "stdout",
          "text": [
            "Explained variance ratio per component:\n",
            "[0.5481677  0.22568975]\n"
          ]
        }
      ]
    },
    {
      "cell_type": "markdown",
      "source": [
        "\n",
        "Kode ini digunakan untuk menampilkan rasio variansi yang dijelaskan oleh setiap komponen utama dalam analisis PCA. Setelah model PCA diterapkan, explained_variance_ratio_ memberikan proporsi variansi yang dapat dijelaskan oleh masing-masing komponen utama. Kode ini mencetak nilai tersebut untuk memberikan gambaran seberapa besar kontribusi setiap komponen terhadap keseluruhan variansi dalam data."
      ],
      "metadata": {
        "id": "CBSmArK72dim"
      }
    }
  ]
}